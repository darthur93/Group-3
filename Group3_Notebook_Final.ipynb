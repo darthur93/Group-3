{
 "cells": [
  {
   "attachments": {},
   "cell_type": "markdown",
   "metadata": {},
   "source": [
    "# A Housing Price-prediction Model\n",
    "### —To support Zillow’s future home price predicion"
   ]
  },
  {
   "cell_type": "markdown",
   "metadata": {},
   "source": [
    "**Authors**: Daniel Arthur, Sumedh Bhardwaj, Emiko Naomasa"
   ]
  },
  {
   "cell_type": "markdown",
   "metadata": {},
   "source": [
    "-----"
   ]
  },
  {
   "cell_type": "code",
   "execution_count": 1,
   "metadata": {},
   "outputs": [],
   "source": [
    "import pandas as pd\n",
    "import numpy as np\n",
    "import seaborn as sns\n",
    "import matplotlib.pyplot as plt\n",
    "%matplotlib inline\n",
    "\n",
    "import statsmodels.api as sm\n",
    "import statsmodels.formula.api as smf\n",
    "\n",
    "\n",
    "from sklearn.linear_model import LinearRegression\n",
    "from sklearn.metrics import mean_squared_error\n",
    "from sklearn.preprocessing import PolynomialFeatures\n",
    "from sklearn.model_selection import train_test_split\n",
    "from sklearn.preprocessing import StandardScaler\n",
    "from sklearn.model_selection import cross_validate\n",
    "\n",
    "from sklearn.metrics import mean_squared_error, r2_score, median_absolute_error\n",
    "from sklearn.dummy import DummyRegressor\n",
    "\n",
    "from sklearn.feature_selection import RFE\n",
    "\n"
   ]
  },
  {
   "cell_type": "code",
   "execution_count": 2,
   "metadata": {},
   "outputs": [
    {
     "data": {
      "text/plain": [
       "(21597, 21)"
      ]
     },
     "execution_count": 2,
     "metadata": {},
     "output_type": "execute_result"
    }
   ],
   "source": [
    "df = pd.read_csv('data/kc_house_data.csv')\n",
    "\n",
    "df.drop_duplicates(inplace=True)\n",
    "df.shape"
   ]
  },
  {
   "cell_type": "code",
   "execution_count": 3,
   "metadata": {},
   "outputs": [
    {
     "data": {
      "text/plain": [
       "540296.5735055795"
      ]
     },
     "execution_count": 3,
     "metadata": {},
     "output_type": "execute_result"
    }
   ],
   "source": [
    "df.price.mean()"
   ]
  },
  {
   "cell_type": "code",
   "execution_count": 4,
   "metadata": {},
   "outputs": [
    {
     "name": "stdout",
     "output_type": "stream",
     "text": [
      "<class 'pandas.core.frame.DataFrame'>\n",
      "Int64Index: 21597 entries, 0 to 21596\n",
      "Data columns (total 21 columns):\n",
      " #   Column         Non-Null Count  Dtype  \n",
      "---  ------         --------------  -----  \n",
      " 0   id             21597 non-null  int64  \n",
      " 1   date           21597 non-null  object \n",
      " 2   price          21597 non-null  float64\n",
      " 3   bedrooms       21597 non-null  int64  \n",
      " 4   bathrooms      21597 non-null  float64\n",
      " 5   sqft_living    21597 non-null  int64  \n",
      " 6   sqft_lot       21597 non-null  int64  \n",
      " 7   floors         21597 non-null  float64\n",
      " 8   waterfront     19221 non-null  object \n",
      " 9   view           21534 non-null  object \n",
      " 10  condition      21597 non-null  object \n",
      " 11  grade          21597 non-null  object \n",
      " 12  sqft_above     21597 non-null  int64  \n",
      " 13  sqft_basement  21597 non-null  object \n",
      " 14  yr_built       21597 non-null  int64  \n",
      " 15  yr_renovated   17755 non-null  float64\n",
      " 16  zipcode        21597 non-null  int64  \n",
      " 17  lat            21597 non-null  float64\n",
      " 18  long           21597 non-null  float64\n",
      " 19  sqft_living15  21597 non-null  int64  \n",
      " 20  sqft_lot15     21597 non-null  int64  \n",
      "dtypes: float64(6), int64(9), object(6)\n",
      "memory usage: 3.6+ MB\n"
     ]
    }
   ],
   "source": [
    "df.info()"
   ]
  },
  {
   "cell_type": "markdown",
   "metadata": {},
   "source": [
    "## 1. Business Understanding \n",
    "- Zillow is the most used online real estate site. The current model they use to evaluate the price of homes has a median error rate of 1.9%. However, this error rate increases to 2.3% in Washington. This results in 9.8% of houses being at or above a 10% error rate. This can equate to 10s of thousands of dollars on an individual scale and millions at a company level. \n",
    "- Zillow is interested in improving the prediction accuracy of their in-house housing price-prediction model. And we are creating a model to reduce the errors in the Washington area. Having a better model will encourage use of the site and increase revenue. \n",
    "- We contracted with Zillow to **(1) develop a prediction model that will help Zillow to predict future home prices** and **(2) Create an inferential model to help potential home buyers to find a house** while balancing their budget constraints and their expectations for a house. This model will be be fed into Zillow’s new online application tool. "
   ]
  },
  {
   "cell_type": "markdown",
   "metadata": {},
   "source": [
    "## 2. Data"
   ]
  },
  {
   "cell_type": "markdown",
   "metadata": {},
   "source": [
    "- We use a dataset on market housing prices for King County, which includes Seattle. It includes the sold prices of houses between May 2014 and May 2015, as well as 20 various housing features, such as the square footage of a living space, the geographical locations of the house, and so on. \n",
    "- The total number of observations is 21597. \n",
    "- For this project, we limit our analysis to the following 12 variables due to our time constraints.\n",
    "\n",
    "We cleaned the following 12 variables from the dataset, and we evaluated the outliers, the missed entries of data, and other issues in each variable. \n",
    "- **id:** Unique identification (ID) for each sold house \n",
    "- **date:** Date the house was sold \n",
    "- **price:** Price of the house sold\n",
    "- **bedrooms:** Number of bedrooms\n",
    "- **bathrooms:** Number of bathrooms\n",
    "- **sqft_living:** Square footage of the house’s interior living space\n",
    "- **sqft_lot:** Square footage of the land space\n",
    "- **floors:** Number of floors\n",
    "- **waterfront:** A dummy variable for whether the house is on a waterfront\n",
    "- **condition:** An index from 1 to 5 on the overall condition of the house. Related to maintenance of house.\n",
    "- **grade:** An index from 1 to 13 on the grade of the house, where 1 means poor construction and design, and 13 means high quality. It is related to the construction and design of the house.\n",
    "- **vintage:** House vintage (years) = the year the house was sold - the year the house was built  \n"
   ]
  },
  {
   "cell_type": "code",
   "execution_count": 5,
   "metadata": {
    "scrolled": true
   },
   "outputs": [
    {
     "data": {
      "text/plain": [
       "Int64Index([2014, 2015], dtype='int64', name='date')"
      ]
     },
     "execution_count": 5,
     "metadata": {},
     "output_type": "execute_result"
    }
   ],
   "source": [
    "# The data covers 2014 & 2015. \n",
    "pd.DatetimeIndex(df['date']).year.unique()"
   ]
  },
  {
   "cell_type": "code",
   "execution_count": 6,
   "metadata": {},
   "outputs": [],
   "source": [
    "# Drop the following variables (according to the project description). \n",
    "drop=['view', 'sqft_above', 'sqft_basement', 'yr_renovated',\n",
    "      'lat', 'long', 'sqft_living15', 'sqft_lot15']\n",
    "\n",
    "# Reassigne dataframe\n",
    "df.drop(labels=drop, axis=1, inplace=True)"
   ]
  },
  {
   "cell_type": "code",
   "execution_count": 7,
   "metadata": {
    "scrolled": true
   },
   "outputs": [
    {
     "name": "stdout",
     "output_type": "stream",
     "text": [
      "<class 'pandas.core.frame.DataFrame'>\n",
      "Int64Index: 21597 entries, 0 to 21596\n",
      "Data columns (total 13 columns):\n",
      " #   Column       Non-Null Count  Dtype  \n",
      "---  ------       --------------  -----  \n",
      " 0   id           21597 non-null  int64  \n",
      " 1   date         21597 non-null  object \n",
      " 2   price        21597 non-null  float64\n",
      " 3   bedrooms     21597 non-null  int64  \n",
      " 4   bathrooms    21597 non-null  float64\n",
      " 5   sqft_living  21597 non-null  int64  \n",
      " 6   sqft_lot     21597 non-null  int64  \n",
      " 7   floors       21597 non-null  float64\n",
      " 8   waterfront   19221 non-null  object \n",
      " 9   condition    21597 non-null  object \n",
      " 10  grade        21597 non-null  object \n",
      " 11  yr_built     21597 non-null  int64  \n",
      " 12  zipcode      21597 non-null  int64  \n",
      "dtypes: float64(3), int64(6), object(4)\n",
      "memory usage: 2.3+ MB\n"
     ]
    }
   ],
   "source": [
    "# 12 variables, n=21597  \n",
    "df.info() "
   ]
  },
  {
   "cell_type": "markdown",
   "metadata": {},
   "source": [
    "## 2.1 Data Manipulation"
   ]
  },
  {
   "cell_type": "code",
   "execution_count": 8,
   "metadata": {
    "scrolled": true
   },
   "outputs": [
    {
     "data": {
      "text/html": [
       "<div>\n",
       "<style scoped>\n",
       "    .dataframe tbody tr th:only-of-type {\n",
       "        vertical-align: middle;\n",
       "    }\n",
       "\n",
       "    .dataframe tbody tr th {\n",
       "        vertical-align: top;\n",
       "    }\n",
       "\n",
       "    .dataframe thead th {\n",
       "        text-align: right;\n",
       "    }\n",
       "</style>\n",
       "<table border=\"1\" class=\"dataframe\">\n",
       "  <thead>\n",
       "    <tr style=\"text-align: right;\">\n",
       "      <th></th>\n",
       "      <th>count</th>\n",
       "      <th>mean</th>\n",
       "      <th>std</th>\n",
       "      <th>min</th>\n",
       "      <th>25%</th>\n",
       "      <th>50%</th>\n",
       "      <th>75%</th>\n",
       "      <th>max</th>\n",
       "    </tr>\n",
       "  </thead>\n",
       "  <tbody>\n",
       "    <tr>\n",
       "      <th>id</th>\n",
       "      <td>21597.0</td>\n",
       "      <td>4.580474e+09</td>\n",
       "      <td>2.876736e+09</td>\n",
       "      <td>1000102.0</td>\n",
       "      <td>2.123049e+09</td>\n",
       "      <td>3.904930e+09</td>\n",
       "      <td>7.308900e+09</td>\n",
       "      <td>9.900000e+09</td>\n",
       "    </tr>\n",
       "    <tr>\n",
       "      <th>price</th>\n",
       "      <td>21597.0</td>\n",
       "      <td>5.402966e+05</td>\n",
       "      <td>3.673681e+05</td>\n",
       "      <td>78000.0</td>\n",
       "      <td>3.220000e+05</td>\n",
       "      <td>4.500000e+05</td>\n",
       "      <td>6.450000e+05</td>\n",
       "      <td>7.700000e+06</td>\n",
       "    </tr>\n",
       "    <tr>\n",
       "      <th>bedrooms</th>\n",
       "      <td>21597.0</td>\n",
       "      <td>3.373200e+00</td>\n",
       "      <td>9.262989e-01</td>\n",
       "      <td>1.0</td>\n",
       "      <td>3.000000e+00</td>\n",
       "      <td>3.000000e+00</td>\n",
       "      <td>4.000000e+00</td>\n",
       "      <td>3.300000e+01</td>\n",
       "    </tr>\n",
       "    <tr>\n",
       "      <th>bathrooms</th>\n",
       "      <td>21597.0</td>\n",
       "      <td>2.115826e+00</td>\n",
       "      <td>7.689843e-01</td>\n",
       "      <td>0.5</td>\n",
       "      <td>1.750000e+00</td>\n",
       "      <td>2.250000e+00</td>\n",
       "      <td>2.500000e+00</td>\n",
       "      <td>8.000000e+00</td>\n",
       "    </tr>\n",
       "    <tr>\n",
       "      <th>sqft_living</th>\n",
       "      <td>21597.0</td>\n",
       "      <td>2.080322e+03</td>\n",
       "      <td>9.181061e+02</td>\n",
       "      <td>370.0</td>\n",
       "      <td>1.430000e+03</td>\n",
       "      <td>1.910000e+03</td>\n",
       "      <td>2.550000e+03</td>\n",
       "      <td>1.354000e+04</td>\n",
       "    </tr>\n",
       "    <tr>\n",
       "      <th>sqft_lot</th>\n",
       "      <td>21597.0</td>\n",
       "      <td>1.509941e+04</td>\n",
       "      <td>4.141264e+04</td>\n",
       "      <td>520.0</td>\n",
       "      <td>5.040000e+03</td>\n",
       "      <td>7.618000e+03</td>\n",
       "      <td>1.068500e+04</td>\n",
       "      <td>1.651359e+06</td>\n",
       "    </tr>\n",
       "    <tr>\n",
       "      <th>floors</th>\n",
       "      <td>21597.0</td>\n",
       "      <td>1.494096e+00</td>\n",
       "      <td>5.396828e-01</td>\n",
       "      <td>1.0</td>\n",
       "      <td>1.000000e+00</td>\n",
       "      <td>1.500000e+00</td>\n",
       "      <td>2.000000e+00</td>\n",
       "      <td>3.500000e+00</td>\n",
       "    </tr>\n",
       "    <tr>\n",
       "      <th>yr_built</th>\n",
       "      <td>21597.0</td>\n",
       "      <td>1.971000e+03</td>\n",
       "      <td>2.937523e+01</td>\n",
       "      <td>1900.0</td>\n",
       "      <td>1.951000e+03</td>\n",
       "      <td>1.975000e+03</td>\n",
       "      <td>1.997000e+03</td>\n",
       "      <td>2.015000e+03</td>\n",
       "    </tr>\n",
       "    <tr>\n",
       "      <th>zipcode</th>\n",
       "      <td>21597.0</td>\n",
       "      <td>9.807795e+04</td>\n",
       "      <td>5.351307e+01</td>\n",
       "      <td>98001.0</td>\n",
       "      <td>9.803300e+04</td>\n",
       "      <td>9.806500e+04</td>\n",
       "      <td>9.811800e+04</td>\n",
       "      <td>9.819900e+04</td>\n",
       "    </tr>\n",
       "  </tbody>\n",
       "</table>\n",
       "</div>"
      ],
      "text/plain": [
       "               count          mean           std        min           25%  \\\n",
       "id           21597.0  4.580474e+09  2.876736e+09  1000102.0  2.123049e+09   \n",
       "price        21597.0  5.402966e+05  3.673681e+05    78000.0  3.220000e+05   \n",
       "bedrooms     21597.0  3.373200e+00  9.262989e-01        1.0  3.000000e+00   \n",
       "bathrooms    21597.0  2.115826e+00  7.689843e-01        0.5  1.750000e+00   \n",
       "sqft_living  21597.0  2.080322e+03  9.181061e+02      370.0  1.430000e+03   \n",
       "sqft_lot     21597.0  1.509941e+04  4.141264e+04      520.0  5.040000e+03   \n",
       "floors       21597.0  1.494096e+00  5.396828e-01        1.0  1.000000e+00   \n",
       "yr_built     21597.0  1.971000e+03  2.937523e+01     1900.0  1.951000e+03   \n",
       "zipcode      21597.0  9.807795e+04  5.351307e+01    98001.0  9.803300e+04   \n",
       "\n",
       "                      50%           75%           max  \n",
       "id           3.904930e+09  7.308900e+09  9.900000e+09  \n",
       "price        4.500000e+05  6.450000e+05  7.700000e+06  \n",
       "bedrooms     3.000000e+00  4.000000e+00  3.300000e+01  \n",
       "bathrooms    2.250000e+00  2.500000e+00  8.000000e+00  \n",
       "sqft_living  1.910000e+03  2.550000e+03  1.354000e+04  \n",
       "sqft_lot     7.618000e+03  1.068500e+04  1.651359e+06  \n",
       "floors       1.500000e+00  2.000000e+00  3.500000e+00  \n",
       "yr_built     1.975000e+03  1.997000e+03  2.015000e+03  \n",
       "zipcode      9.806500e+04  9.811800e+04  9.819900e+04  "
      ]
     },
     "execution_count": 8,
     "metadata": {},
     "output_type": "execute_result"
    }
   ],
   "source": [
    "# 5 points statistics \n",
    "df.describe().transpose()"
   ]
  },
  {
   "cell_type": "markdown",
   "metadata": {},
   "source": [
    "### Missing variables (waterfront)"
   ]
  },
  {
   "cell_type": "code",
   "execution_count": 9,
   "metadata": {
    "scrolled": true
   },
   "outputs": [
    {
     "data": {
      "text/plain": [
       "id                0\n",
       "date              0\n",
       "price             0\n",
       "bedrooms          0\n",
       "bathrooms         0\n",
       "sqft_living       0\n",
       "sqft_lot          0\n",
       "floors            0\n",
       "waterfront     2376\n",
       "condition         0\n",
       "grade             0\n",
       "yr_built          0\n",
       "zipcode           0\n",
       "dtype: int64"
      ]
     },
     "execution_count": 9,
     "metadata": {},
     "output_type": "execute_result"
    }
   ],
   "source": [
    "# waterfront has 2376 missing variables \n",
    "df.isnull().sum()"
   ]
  },
  {
   "cell_type": "code",
   "execution_count": 10,
   "metadata": {},
   "outputs": [
    {
     "data": {
      "text/plain": [
       "array([nan, 'NO', 'YES'], dtype=object)"
      ]
     },
     "execution_count": 10,
     "metadata": {},
     "output_type": "execute_result"
    }
   ],
   "source": [
    "df.waterfront.unique()"
   ]
  },
  {
   "cell_type": "code",
   "execution_count": 11,
   "metadata": {},
   "outputs": [],
   "source": [
    "# convert nan => 'N/A'\n",
    "df.waterfront = df.waterfront.fillna('N/A')"
   ]
  },
  {
   "cell_type": "code",
   "execution_count": 12,
   "metadata": {
    "scrolled": false
   },
   "outputs": [
    {
     "data": {
      "text/plain": [
       "array(['N/A', 'NO', 'YES'], dtype=object)"
      ]
     },
     "execution_count": 12,
     "metadata": {},
     "output_type": "execute_result"
    }
   ],
   "source": [
    "df.waterfront.unique()"
   ]
  },
  {
   "cell_type": "code",
   "execution_count": 13,
   "metadata": {
    "scrolled": true
   },
   "outputs": [
    {
     "data": {
      "text/plain": [
       "array([98178, 98007, 98030, 98074, 98105, 98166, 98004, 98056, 98058,\n",
       "       98168, 98118, 98003, 98133, 98177, 98034, 98103, 98126, 98038,\n",
       "       98040, 98053, 98023, 98052, 98042, 98059, 98117, 98146, 98014,\n",
       "       98006, 98116, 98033, 98115, 98045, 98019, 98055, 98188, 98024,\n",
       "       98125, 98198, 98031, 98109, 98002, 98065, 98144, 98199, 98092,\n",
       "       98102, 98155, 98075, 98011, 98136, 98072, 98008, 98106, 98027,\n",
       "       98029, 98005, 98070, 98028, 98022, 98108, 98010, 98001, 98112,\n",
       "       98077, 98107, 98122, 98148, 98119, 98032, 98039])"
      ]
     },
     "execution_count": 13,
     "metadata": {},
     "output_type": "execute_result"
    }
   ],
   "source": [
    "# zipcode of houses for missing waterfront variables  \n",
    "waterfront_na = df.loc[df.waterfront=='N/A']\n",
    "waterfront_na.zipcode.unique()\n",
    "\n",
    "# from the zipcode, can not tell if 'N/A' = 'NO'"
   ]
  },
  {
   "cell_type": "markdown",
   "metadata": {},
   "source": [
    "### Housing price (y)"
   ]
  },
  {
   "cell_type": "code",
   "execution_count": 14,
   "metadata": {
    "scrolled": false
   },
   "outputs": [
    {
     "data": {
      "image/png": "[encoded data removed]",
      "text/plain": [
       "<Figure size 432x288 with 1 Axes>"
      ]
     },
     "metadata": {
      "needs_background": "light"
     },
     "output_type": "display_data"
    }
   ],
   "source": [
    "# Outliers skewe the distribution.  \n",
    "plt.hist(x=df.price, bins=20)\n",
    "\n",
    "plt.xlabel(\"Price (Million USD)\")\n",
    "plt.ylabel('count');\n"
   ]
  },
  {
   "cell_type": "code",
   "execution_count": 15,
   "metadata": {},
   "outputs": [
    {
     "name": "stdout",
     "output_type": "stream",
     "text": [
      "Threshold price for top 1%: 1970000.0\n",
      "Threshold price for top 2.5%: 1490000.0\n",
      "Threshold price for top 5%: 1160000.0\n"
     ]
    }
   ],
   "source": [
    "print(f'Threshold price for top 1%: {df.price.quantile(0.99)}')\n",
    "print(f'Threshold price for top 2.5%: {df.price.quantile(0.975)}')\n",
    "print(f'Threshold price for top 5%: {df.price.quantile(0.95)}')"
   ]
  },
  {
   "cell_type": "code",
   "execution_count": 16,
   "metadata": {
    "scrolled": false
   },
   "outputs": [
    {
     "data": {
      "image/png": "[encoded data removed]",
      "text/plain": [
       "<Figure size 432x288 with 1 Axes>"
      ]
     },
     "metadata": {
      "needs_background": "light"
     },
     "output_type": "display_data"
    }
   ],
   "source": [
    "# If we drop top 1% (price >= 1970000), distribution looks less skewed \n",
    "x=df.loc[df.price < df.price.quantile(0.99)].price\n",
    "plt.hist(x=x, bins=20)\n",
    "\n",
    "plt.xlabel(\"Price (Million USD)\")\n",
    "plt.ylabel('count');"
   ]
  },
  {
   "cell_type": "code",
   "execution_count": 17,
   "metadata": {},
   "outputs": [],
   "source": [
    "# Log transformation \n",
    "df['price_log']=np.log(df.price)"
   ]
  },
  {
   "cell_type": "code",
   "execution_count": 18,
   "metadata": {},
   "outputs": [
    {
     "data": {
      "image/png": "[encoded data removed]",
      "text/plain": [
       "<Figure size 432x288 with 1 Axes>"
      ]
     },
     "metadata": {
      "needs_background": "light"
     },
     "output_type": "display_data"
    }
   ],
   "source": [
    "# Distribution of log(price) \n",
    "\n",
    "plt.hist(x=df.price_log, bins=20, density=True)\n",
    "plt.title('Log(price)')\n",
    "plt.xlabel('price_log')\n",
    "plt.ylabel('density');"
   ]
  },
  {
   "cell_type": "markdown",
   "metadata": {},
   "source": [
    "### Dependent Variables (X)"
   ]
  },
  {
   "cell_type": "markdown",
   "metadata": {},
   "source": [
    "##### Number of Bedrooms"
   ]
  },
  {
   "cell_type": "code",
   "execution_count": 19,
   "metadata": {
    "scrolled": true
   },
   "outputs": [
    {
     "data": {
      "text/plain": [
       "3     9824\n",
       "4     6882\n",
       "2     2760\n",
       "5     1601\n",
       "6      272\n",
       "1      196\n",
       "7       38\n",
       "8       13\n",
       "9        6\n",
       "10       3\n",
       "11       1\n",
       "33       1\n",
       "Name: bedrooms, dtype: int64"
      ]
     },
     "execution_count": 19,
     "metadata": {},
     "output_type": "execute_result"
    }
   ],
   "source": [
    "df.bedrooms.value_counts()"
   ]
  },
  {
   "cell_type": "code",
   "execution_count": 20,
   "metadata": {},
   "outputs": [],
   "source": [
    "# Drop outlier (the house with 33 bedrooms)\n",
    "df = df.loc[df.bedrooms!=33]"
   ]
  },
  {
   "cell_type": "code",
   "execution_count": 21,
   "metadata": {},
   "outputs": [
    {
     "data": {
      "image/png": "[encoded data removed]",
      "text/plain": [
       "<Figure size 432x288 with 1 Axes>"
      ]
     },
     "metadata": {
      "needs_background": "light"
     },
     "output_type": "display_data"
    }
   ],
   "source": [
    "plt.hist(x=df.bedrooms, bins=20)\n",
    "\n",
    "plt.xlabel('Number of bedrooms')\n",
    "plt.ylabel('count');"
   ]
  },
  {
   "cell_type": "markdown",
   "metadata": {},
   "source": [
    "##### Number of Bathrooms"
   ]
  },
  {
   "cell_type": "code",
   "execution_count": 22,
   "metadata": {},
   "outputs": [
    {
     "data": {
      "image/png": "[encoded data removed]",
      "text/plain": [
       "<Figure size 432x288 with 1 Axes>"
      ]
     },
     "metadata": {
      "needs_background": "light"
     },
     "output_type": "display_data"
    }
   ],
   "source": [
    "plt.hist(x=df.bathrooms, bins=20)\n",
    "\n",
    "plt.xlabel('Number of bathrooms')\n",
    "plt.ylabel('count');"
   ]
  },
  {
   "cell_type": "markdown",
   "metadata": {},
   "source": [
    "##### Sqft_living"
   ]
  },
  {
   "cell_type": "code",
   "execution_count": 23,
   "metadata": {},
   "outputs": [
    {
     "data": {
      "image/png": "[encoded data removed]",
      "text/plain": [
       "<Figure size 432x288 with 1 Axes>"
      ]
     },
     "metadata": {
      "needs_background": "light"
     },
     "output_type": "display_data"
    }
   ],
   "source": [
    "plt.hist(x=df.sqft_living, bins=20)\n",
    "\n",
    "plt.xlabel('Interior living space(sq.ft.)')\n",
    "plt.ylabel('count');"
   ]
  },
  {
   "cell_type": "code",
   "execution_count": 24,
   "metadata": {},
   "outputs": [
    {
     "name": "stdout",
     "output_type": "stream",
     "text": [
      "Threshold sqft_living for top 1%: 4980.0\n",
      "Threshold sqft_living for top 2.5%: 4270.0\n",
      "Threshold sqft_living for top 5%: 3760.0\n"
     ]
    }
   ],
   "source": [
    "print(f'Threshold sqft_living for top 1%: {df.sqft_living.quantile(0.99)}')\n",
    "print(f'Threshold sqft_living for top 2.5%: {df.sqft_living.quantile(0.975)}')\n",
    "print(f'Threshold sqft_living for top 5%: {df.sqft_living.quantile(0.95)}')"
   ]
  },
  {
   "cell_type": "code",
   "execution_count": 25,
   "metadata": {},
   "outputs": [
    {
     "name": "stdout",
     "output_type": "stream",
     "text": [
      "Number of houses which sqft_living > 99% threshold: 215\n",
      "Average housing price for over 99% threshold sqft houses: 2061799.534883721\n"
     ]
    }
   ],
   "source": [
    "# number of houses which has sqft_living is above 99% threshold \n",
    "print(f'Number of houses which sqft_living > 99% threshold: {len(df.loc[df.sqft_living>df.sqft_living.quantile(0.99)])}')\n",
    "\n",
    "# Average housing price for over 99% threshold sqft \n",
    "print (f'Average housing price for over 99% threshold sqft houses: {df.loc[df.sqft_living > df.sqft_living.quantile(0.99)].price.mean()}')\n"
   ]
  },
  {
   "cell_type": "markdown",
   "metadata": {},
   "source": [
    "##### sqft_lot"
   ]
  },
  {
   "cell_type": "code",
   "execution_count": 26,
   "metadata": {},
   "outputs": [
    {
     "data": {
      "image/png": "[encoded data removed]",
      "text/plain": [
       "<Figure size 432x288 with 1 Axes>"
      ]
     },
     "metadata": {
      "needs_background": "light"
     },
     "output_type": "display_data"
    }
   ],
   "source": [
    "plt.hist(x=df.sqft_lot, bins=20)\n",
    "\n",
    "plt.xlabel('Land space(sq.ft.)')\n",
    "plt.ylabel('count');"
   ]
  },
  {
   "cell_type": "markdown",
   "metadata": {},
   "source": [
    "##### floors"
   ]
  },
  {
   "cell_type": "code",
   "execution_count": 27,
   "metadata": {
    "scrolled": true
   },
   "outputs": [
    {
     "data": {
      "image/png": "[encoded data removed]",
      "text/plain": [
       "<Figure size 432x288 with 1 Axes>"
      ]
     },
     "metadata": {
      "needs_background": "light"
     },
     "output_type": "display_data"
    }
   ],
   "source": [
    "plt.hist(x=df.floors, bins=20)\n",
    "\n",
    "plt.xlabel('Number of floors')\n",
    "plt.ylabel('count');\n"
   ]
  },
  {
   "cell_type": "markdown",
   "metadata": {},
   "source": [
    "##### House vintage = year of house was sold - year of house was built  "
   ]
  },
  {
   "cell_type": "code",
   "execution_count": 28,
   "metadata": {},
   "outputs": [],
   "source": [
    "# vintage = year of house was sold - year of house was built  \n",
    "\n",
    "# year of house was sold \n",
    "df['yr_sold']=pd.DatetimeIndex(df['date']).year\n",
    "\n",
    "# year of house was sold - year of house was built\n",
    "df['vintage'] = df['yr_sold'] - df['yr_built']\n",
    "\n"
   ]
  },
  {
   "cell_type": "code",
   "execution_count": 29,
   "metadata": {},
   "outputs": [
    {
     "data": {
      "image/png": "[encoded data removed]",
      "text/plain": [
       "<Figure size 432x288 with 1 Axes>"
      ]
     },
     "metadata": {
      "needs_background": "light"
     },
     "output_type": "display_data"
    }
   ],
   "source": [
    "# There are 12 houses which vintage was negative (-1). \n",
    "# Since some people purchase houses before it is built, we change negative vintage to 0.  \n",
    "\n",
    "df.vintage.replace({-1:0}, inplace=True)\n",
    "\n",
    "plt.hist(x=df.vintage, bins=20)\n",
    "\n",
    "plt.xlabel('Vintage of a house (Year)')\n",
    "plt.ylabel('count');"
   ]
  },
  {
   "cell_type": "markdown",
   "metadata": {},
   "source": [
    "#### categorical variables "
   ]
  },
  {
   "cell_type": "markdown",
   "metadata": {},
   "source": [
    "##### condition (categorical value)\n",
    "- The overall condition of the house. "
   ]
  },
  {
   "cell_type": "code",
   "execution_count": 30,
   "metadata": {},
   "outputs": [
    {
     "data": {
      "text/plain": [
       "Average      14020\n",
       "Good          5677\n",
       "Very Good     1700\n",
       "Fair           170\n",
       "Poor            29\n",
       "Name: condition, dtype: int64"
      ]
     },
     "execution_count": 30,
     "metadata": {},
     "output_type": "execute_result"
    }
   ],
   "source": [
    "df.condition.value_counts()"
   ]
  },
  {
   "cell_type": "code",
   "execution_count": 31,
   "metadata": {},
   "outputs": [],
   "source": [
    "# cond_good = 1 if condition = very good or good. \n",
    "df['cond_good'] = (df['condition'] =='Very Good') | ((df.condition =='Good')).astype(int)\n",
    "df['cond_good']=df['cond_good'].astype(int)\n",
    "\n",
    "# cond_ave = 1 if condition =average\n",
    "df['cond_ave'] = (df['condition'] =='Average')\n",
    "df['cond_ave']=df['cond_ave'].astype(int)"
   ]
  },
  {
   "cell_type": "markdown",
   "metadata": {},
   "source": [
    "##### grade (categorical value)\n",
    "- An index from 1 to 13 for a quality of construction and design."
   ]
  },
  {
   "cell_type": "code",
   "execution_count": 32,
   "metadata": {
    "scrolled": false
   },
   "outputs": [
    {
     "data": {
      "text/plain": [
       "7 Average        8973\n",
       "8 Good           6065\n",
       "9 Better         2615\n",
       "6 Low Average    2038\n",
       "10 Very Good     1134\n",
       "11 Excellent      399\n",
       "5 Fair            242\n",
       "12 Luxury          89\n",
       "4 Low              27\n",
       "13 Mansion         13\n",
       "3 Poor              1\n",
       "Name: grade, dtype: int64"
      ]
     },
     "execution_count": 32,
     "metadata": {},
     "output_type": "execute_result"
    }
   ],
   "source": [
    "df.grade.value_counts()"
   ]
  },
  {
   "cell_type": "code",
   "execution_count": 33,
   "metadata": {},
   "outputs": [
    {
     "data": {
      "text/plain": [
       "7     8973\n",
       "8     6065\n",
       "9     2615\n",
       "6     2038\n",
       "10    1134\n",
       "11     399\n",
       "5      242\n",
       "12      89\n",
       "4       27\n",
       "13      13\n",
       "3        1\n",
       "Name: grade, dtype: int64"
      ]
     },
     "execution_count": 33,
     "metadata": {},
     "output_type": "execute_result"
    }
   ],
   "source": [
    "# convert to numeric value (3(Poor)-13(Mansion))\n",
    "df['grade'] = df['grade'].str.split().str[0]\n",
    "df['grade']=df['grade'].astype(int)\n",
    "df.grade.value_counts()"
   ]
  },
  {
   "cell_type": "code",
   "execution_count": 34,
   "metadata": {},
   "outputs": [
    {
     "data": {
      "text/plain": [
       "0    11281\n",
       "1    10315\n",
       "Name: grade_above_ave, dtype: int64"
      ]
     },
     "execution_count": 34,
     "metadata": {},
     "output_type": "execute_result"
    }
   ],
   "source": [
    "## grade_above_average dummy (if grade = [8(Good) - 13(Mansion)], grade_above_average =1)\n",
    "df['grade_above_ave'] = (df['grade'] > 7).astype(int)\n",
    "df.grade_above_ave.value_counts()"
   ]
  },
  {
   "cell_type": "markdown",
   "metadata": {},
   "source": [
    "##### Waterfront dummy (Yes=1)"
   ]
  },
  {
   "cell_type": "code",
   "execution_count": 35,
   "metadata": {},
   "outputs": [],
   "source": [
    "df.waterfront.replace({'N/A' : 'N/A_NO' }, inplace = True)\n",
    "\n",
    "wd = pd.get_dummies(df.waterfront, prefix='waterfront_' , drop_first=False)\n",
    "\n",
    "wd = wd.waterfront__YES\n",
    "\n",
    "df = pd.concat([df, wd], axis=1)\n",
    "\n",
    "df.drop(labels='waterfront', axis=1, inplace =True)"
   ]
  },
  {
   "cell_type": "markdown",
   "metadata": {},
   "source": [
    "##### Seattle dummy (Seattle = 1)"
   ]
  },
  {
   "cell_type": "code",
   "execution_count": 36,
   "metadata": {},
   "outputs": [
    {
     "data": {
      "text/plain": [
       "6951"
      ]
     },
     "execution_count": 36,
     "metadata": {},
     "output_type": "execute_result"
    }
   ],
   "source": [
    "# Create seattle dummy \n",
    "# In a city, sqft is smaller, price is higher. So, relationship between price and other house features will be different between houses in Seattle and houses outside of the city.\n",
    "\n",
    "# 28 zipcodes for Seattle \n",
    "seattle_zipcode=[98101, 98102, 98103, 98104, 98105, 98106, 98107, 98108, 98109, 98112, 98115, 98116, 98117, 98118, 98119, 98121, 98122, 98125, 98126, 98133, 98134, 98136, 98144, 98146, 98154, 98164, 98174, 98177]\n",
    "\n",
    "df['seattle'] = [1 if x in seattle_zipcode else 0 for x in df.zipcode]\n",
    "df.seattle.sum()\n",
    "# 6297 houses are in seattle "
   ]
  },
  {
   "cell_type": "markdown",
   "metadata": {},
   "source": [
    "## 3. EDA"
   ]
  },
  {
   "cell_type": "markdown",
   "metadata": {},
   "source": [
    "- From the scatter plot figure, we see a linear relationship between housing price and sqft_living, sqft_lot, number of bedrooms, number of bathrooms, and housing grade. Also, the bar chart shows that the mean housing price on a waterfront house is more than three times the mean housing price not on a waterfront. The bar chart also shows a slight difference in the mean housing prices inside and outside of Seattle, but the difference is not as large as the price difference between a waterfront and non-waterfront property is. \n",
    "\n"
   ]
  },
  {
   "cell_type": "code",
   "execution_count": 37,
   "metadata": {},
   "outputs": [
    {
     "data": {
      "image/png": "[encoded data removed]",
      "text/plain": [
       "<Figure size 720x864 with 121 Axes>"
      ]
     },
     "metadata": {
      "needs_background": "light"
     },
     "output_type": "display_data"
    }
   ],
   "source": [
    "## scatter plot for continuous variables \n",
    "\n",
    "cont = df.select_dtypes(('int64', 'float64')).columns.drop(['id', 'yr_built', 'zipcode','seattle', 'yr_sold', 'price_log'])\n",
    "\n",
    "pd.plotting.scatter_matrix(df[cont], figsize=(10,12));\n"
   ]
  },
  {
   "cell_type": "code",
   "execution_count": null,
   "metadata": {},
   "outputs": [],
   "source": [
    "# Plotting X on y \n",
    "\n",
    "fig, axes = plt.subplots(ncols=3, nrows=3, figsize=(15, 15))\n",
    "fig.set_tight_layout(True)\n",
    "\n",
    "xcont = ['sqft_living', 'sqft_lot', 'bedrooms', 'bathrooms', 'grade', 'vintage', 'floors', 'waterfront__YES', 'seattle']\n",
    "\n",
    "for xcol, ax in zip(xcont, axes.flatten()):\n",
    "    ax.scatter(df[xcol], df['price'], alpha=0.2)\n",
    "    ax.set_xlabel(xcol)\n",
    "    ax.set_ylabel(\"price\")"
   ]
  },
  {
   "cell_type": "code",
   "execution_count": null,
   "metadata": {},
   "outputs": [],
   "source": [
    "# Bar plots of average housing price by categories. \n",
    "\n",
    "fig, axes = plt.subplots(nrows=1, ncols=2, figsize=(10 , 5), sharey=True)\n",
    "\n",
    "#select datatype=object\n",
    "cate = df[['waterfront__YES', 'seattle']]\n",
    "\n",
    "for xcol, ax in zip(cate, axes.flatten()):\n",
    "    df.groupby(xcol).mean()['price'].sort_values().plot.bar(ax=ax)\n",
    "    \n",
    "    ax.set_title(xcol)\n",
    "    ax.set_ylabel('Housing price (Million USD)')\n",
    "\n",
    "\n",
    "    \n",
    "    \n",
    "fig.tight_layout()"
   ]
  },
  {
   "cell_type": "markdown",
   "metadata": {},
   "source": [
    "## 4. Model"
   ]
  },
  {
   "cell_type": "markdown",
   "metadata": {},
   "source": [
    "With the above dataset, we build (1) an inferential model with a linear regression model and (2) a price prediction model using the feature engineering technique. Before going into regression analysis, we first examine the correlation between price (our targeted variable) and other housing features (independent variables), as well as considering the correlation across independent variables. \n",
    "- The figures below shows that sqft_living has the highest correlation with housing price followed by grade of housing, number of bathrooms, number of bedrooms, and waterfront dummy follows. However, according to the correlation matrix, sqft_living has very high multicollinearity with other features including the number of bathrooms and grade of housing. So, we limit our focus on the following variables; sqft_living, bedrooms, grade, floors, Seattle (dummy), waterfront (dummy). "
   ]
  },
  {
   "cell_type": "code",
   "execution_count": null,
   "metadata": {},
   "outputs": [],
   "source": [
    "# drop id, date, condition, zipcode from df\n",
    "df.drop(labels=['id', 'date', 'condition', 'zipcode', 'cond_ave'], axis=1, inplace=True)"
   ]
  },
  {
   "cell_type": "code",
   "execution_count": null,
   "metadata": {},
   "outputs": [],
   "source": [
    "# Correlation Matrix \n",
    "corr = df.drop(labels=([ 'price_log', 'yr_sold', 'yr_built', 'grade_above_ave']), axis=1).corr()\n",
    "\n",
    "# heatmap \n",
    "fig, ax=plt.subplots(figsize=(10,10))\n",
    "sns.heatmap(data=corr,\n",
    "            mask=np.triu(np.ones_like(corr, dtype=bool)), \n",
    "            ax=ax,\n",
    "            annot = True,\n",
    "            );"
   ]
  },
  {
   "cell_type": "code",
   "execution_count": null,
   "metadata": {},
   "outputs": [],
   "source": [
    "# Correlation between y and X\n",
    "\n",
    "y_axis_labels = ['House Vintage (year)','Condition (good=1)', 'Seattle (yes=1)','Sqft_Lot', \n",
    "                 'Floors', ' Waterfront (yes=1)','Bedrooms', 'Bathrooms', 'Grade' ,'Sqft_Living', 'price'] \n",
    "x = corr[['price']]\n",
    "x = x.sort_values(by='price')\n",
    "sns.heatmap(x, annot=True, yticklabels= y_axis_labels)\n",
    "plt.savefig('Image/correlation_X_y')\n",
    ";"
   ]
  },
  {
   "cell_type": "markdown",
   "metadata": {},
   "source": [
    "### 4.1 Inferential Model: Model to support customers’ house purchasing decisions\n",
    "We run seven models with various combinations of variables and with different scales of variables. \n"
   ]
  },
  {
   "cell_type": "markdown",
   "metadata": {},
   "source": [
    "##### Model 1 (Initial Model)\n",
    "\n",
    "- This initial model includes the most related feature to the house price (squared footage of a house’s living space (sqft_living)) and waterfront dummy, which is another feature strongly related with the housing price but apparently independent of sqft_living. \n",
    "- However, the condition number is very large. We expect strong multicollinearity.\n",
    "- Additional checks show that this model deviates from the linearity assumption, especially in the higher end houses, by over two million areas. The model also failed the normality and homoscedasticity assumptions. As the housing price goes up, the model deviates from the normality assumption, and the residuals of the model vary more. This may be partially explained by extreme outliers in the housing price data. So, for the next model, we exclude the outliers, whose price is in the top 1% of the dataset."
   ]
  },
  {
   "cell_type": "code",
   "execution_count": null,
   "metadata": {
    "scrolled": true
   },
   "outputs": [],
   "source": [
    "# Model 1 OLS price - sqft_living + waterfront \n",
    "\n",
    "formula1 = \"price ~ sqft_living + C(waterfront__YES)\"\n",
    "model1 = smf.ols(formula1, df).fit()\n",
    "model1.summary()\n"
   ]
  },
  {
   "cell_type": "code",
   "execution_count": null,
   "metadata": {},
   "outputs": [],
   "source": [
    "# Linearity check \n",
    "x_cols = ['sqft_living', 'waterfront__YES']\n",
    "preds = model1.predict(df[x_cols])\n",
    "\n",
    "fig, ax = plt.subplots()\n",
    "\n",
    "perfect_line = np.arange(df.price.min(), df.price.max())\n",
    "ax.plot(perfect_line, linestyle=\"--\", color=\"orange\", label=\"Perfect Fit\")\n",
    "ax.scatter(df.price, preds, alpha=0.5)\n",
    "ax.set_xlabel(\"Actual Price\")\n",
    "ax.set_ylabel(\"Predicted Price\")\n",
    "ax.legend();"
   ]
  },
  {
   "cell_type": "code",
   "execution_count": null,
   "metadata": {
    "scrolled": true
   },
   "outputs": [],
   "source": [
    "# QQ normality check here\n",
    "import scipy.stats as stats\n",
    "\n",
    "residuals = model1.resid\n",
    "fig = sm.graphics.qqplot(residuals, dist=stats.norm, line='45', fit=True)\n",
    "fig.show();\n"
   ]
  },
  {
   "cell_type": "code",
   "execution_count": null,
   "metadata": {},
   "outputs": [],
   "source": [
    "# Homoskedasticity \n",
    "plt.figure()\n",
    "x_cols = ['sqft_living', 'waterfront__YES']\n",
    "plt.scatter(model1.predict(df[x_cols]), model1.resid)\n",
    "plt.plot(model1.predict(df[x_cols]), [0 for i in range(len(df))], c='black')\n",
    "\n",
    "plt.xlabel(\"Predicted Value\")\n",
    "plt.ylabel(\"Actual - Predicted Value\");\n"
   ]
  },
  {
   "cell_type": "markdown",
   "metadata": {},
   "source": [
    "##### Model 2 (Excluding outliers)\n",
    "- This model dropped the extreme outliers in terms of housing prices. The houses whose prices were above 1.97 million USD (a cutoff point for the top 1% price) were excluded from the dataset. As a result, we dropped 220 samples. \n",
    "- The Adj R2 scores was decreased by 0.06. However, this model deviates less from the linearity, normality, and homoskedasticity assumptions. It is still not perfectly linear or normal, but by dropping the extreme outliers, the estimation results from model 2 are more valid than model 1. \n",
    "- The condition number is still very large. We expect strong multicollinearity."
   ]
  },
  {
   "cell_type": "code",
   "execution_count": null,
   "metadata": {},
   "outputs": [],
   "source": [
    "# Model 2 (price - sqft_living + waterfront)\n",
    "\n",
    "df_99 = df.loc[(df.price < df.price.quantile(0.99))]\n",
    "\n",
    "formula2 = \"price ~ sqft_living + C(waterfront__YES)\"\n",
    "model2 = smf.ols(formula2, df_99).fit()\n",
    "model2.summary()"
   ]
  },
  {
   "cell_type": "code",
   "execution_count": null,
   "metadata": {},
   "outputs": [],
   "source": [
    "# Linearity check \n",
    "x_cols = ['sqft_living', 'waterfront__YES']\n",
    "preds = model2.predict(df_99[x_cols])\n",
    "\n",
    "fig, ax = plt.subplots()\n",
    "\n",
    "perfect_line = np.arange(df_99.price.min(), df_99.price.max())\n",
    "ax.plot(perfect_line, linestyle=\"--\", color=\"orange\", label=\"Perfect Fit\")\n",
    "ax.scatter(df_99.price, preds, alpha=0.5)\n",
    "ax.set_xlabel(\"Actual Price\")\n",
    "ax.set_ylabel(\"Predicted Price\")\n",
    "ax.legend();"
   ]
  },
  {
   "cell_type": "code",
   "execution_count": null,
   "metadata": {},
   "outputs": [],
   "source": [
    "# QQ normality check here\n",
    "import scipy.stats as stats\n",
    "\n",
    "residuals = model2.resid\n",
    "fig = sm.graphics.qqplot(residuals, dist=stats.norm, line='45', fit=True)\n",
    "fig.show()"
   ]
  },
  {
   "cell_type": "code",
   "execution_count": null,
   "metadata": {},
   "outputs": [],
   "source": [
    "# Homoskedasticity \n",
    "plt.figure()\n",
    "x_cols =  ['sqft_living', 'waterfront__YES']\n",
    "plt.scatter(model2.predict(df_99[x_cols]), model2.resid)\n",
    "plt.plot(model2.predict(df_99[x_cols]), [0 for i in range(len(df_99))], c='black')\n",
    "plt.xlabel(\"Predicted Value\")\n",
    "plt.ylabel(\"Actual - Predicted Value\");\n",
    "\n"
   ]
  },
  {
   "cell_type": "markdown",
   "metadata": {},
   "source": [
    "##### Model 3 \n",
    "- To avoid strong multicollinearity issues in this dataset, we created a single OLS model with sqft_living. \n",
    "- However, the condition number is still large, and the model still alerts the possible multicollinearity issues.\n",
    "- There is no changes in the adj.R2 score, which is around 0.46.\n"
   ]
  },
  {
   "cell_type": "code",
   "execution_count": null,
   "metadata": {
    "scrolled": true
   },
   "outputs": [],
   "source": [
    "# Model 3 (price - sqft_living) \n",
    "\n",
    "formula3 = \"price ~ sqft_living\"\n",
    "model3 = smf.ols(formula3, df_99).fit()\n",
    "model3.summary()"
   ]
  },
  {
   "cell_type": "code",
   "execution_count": null,
   "metadata": {},
   "outputs": [],
   "source": [
    "# Linearity check \n",
    "x_cols = ['sqft_living']\n",
    "preds = model3.predict(df_99[x_cols])\n",
    "\n",
    "fig, ax = plt.subplots()\n",
    "\n",
    "perfect_line = np.arange(df_99.price.min(), df_99.price.max())\n",
    "ax.plot(perfect_line, linestyle=\"--\", color=\"orange\", label=\"Perfect Fit\")\n",
    "ax.scatter(df_99.price, preds, alpha=0.5)\n",
    "ax.set_xlabel(\"Actual Price\")\n",
    "ax.set_ylabel(\"Predicted Price\")\n",
    "ax.legend();"
   ]
  },
  {
   "cell_type": "code",
   "execution_count": null,
   "metadata": {},
   "outputs": [],
   "source": [
    "# QQ normality check here\n",
    "import scipy.stats as stats\n",
    "\n",
    "residuals = model3.resid\n",
    "fig = sm.graphics.qqplot(residuals, dist=stats.norm, line='45', fit=True)\n",
    "fig.show()"
   ]
  },
  {
   "cell_type": "code",
   "execution_count": null,
   "metadata": {},
   "outputs": [],
   "source": [
    "# Homoskedasticity \n",
    "plt.figure()\n",
    "x_cols = ['sqft_living']\n",
    "\n",
    "plt.scatter(model3.predict(df_99[x_cols]), model3.resid)\n",
    "plt.plot(model3.predict(df_99[x_cols]), [0 for i in range(len(df_99))], c='black')\n",
    "\n",
    "plt.xlabel(\"Predicted Value\")\n",
    "plt.ylabel(\"Actual - Predicted Value\");\n",
    "\n"
   ]
  },
  {
   "cell_type": "markdown",
   "metadata": {},
   "source": [
    "##### Model 4\n",
    "\n",
    "- This model uses the index of housing grade scores as an independent variable and run a single OLS regression.\n",
    "- The condition number was finally dropped to 53; this model has no multicollinearity issue. \n",
    "- Adj R2 score is low (0.463). This model explains only 46.3% of the housing price movement. "
   ]
  },
  {
   "cell_type": "code",
   "execution_count": null,
   "metadata": {
    "scrolled": true
   },
   "outputs": [],
   "source": [
    "# Model 4 (price - grade)\n",
    "formula4 = \"price ~ grade\"\n",
    "model4 = smf.ols(formula4, df_99).fit()\n",
    "model4.summary()"
   ]
  },
  {
   "cell_type": "code",
   "execution_count": null,
   "metadata": {
    "scrolled": true
   },
   "outputs": [],
   "source": [
    "# Linearity check \n",
    "x_cols = ['grade']\n",
    "preds = model4.predict(df_99[x_cols])\n",
    "\n",
    "fig, ax = plt.subplots()\n",
    "\n",
    "perfect_line = np.arange(df_99.price.min(), df_99.price.max())\n",
    "ax.plot(perfect_line, linestyle=\"--\", color=\"orange\", label=\"Perfect Fit\")\n",
    "ax.scatter(df_99.price, preds, alpha=0.5)\n",
    "ax.set_xlabel(\"Actual Price\")\n",
    "ax.set_ylabel(\"Predicted Price\")\n",
    "ax.legend();"
   ]
  },
  {
   "cell_type": "code",
   "execution_count": null,
   "metadata": {
    "scrolled": true
   },
   "outputs": [],
   "source": [
    "# QQ normality check here\n",
    "import scipy.stats as stats\n",
    "\n",
    "residuals = model4.resid\n",
    "fig = sm.graphics.qqplot(residuals, dist=stats.norm, line='45', fit=True)\n",
    "fig.show()"
   ]
  },
  {
   "cell_type": "code",
   "execution_count": null,
   "metadata": {},
   "outputs": [],
   "source": [
    "# Homoskedasticity \n",
    "plt.figure()\n",
    "x_cols = ['sqft_living', 'waterfront__YES', 'bedrooms', 'seattle',\n",
    "         'grade', 'floors', 'vintage', 'cond_good']\n",
    "\n",
    "plt.scatter(model4.predict(df_99[x_cols]), model4.resid)\n",
    "plt.plot(model4.predict(df_99[x_cols]), [0 for i in range(len(df_99))], c='black')\n",
    "\n",
    "plt.xlabel(\"Predicted Value\")\n",
    "plt.ylabel(\"Actual - Predicted Value\");\n",
    "\n"
   ]
  },
  {
   "cell_type": "markdown",
   "metadata": {},
   "source": [
    "##### Model 5\n",
    "- This model added two more features, waterfront dummy and seattle dummy, to the previous model.\n",
    "- The Adj. R-squared gradually increased, yet still low. This model explain 51% of the housing price movement. "
   ]
  },
  {
   "cell_type": "code",
   "execution_count": null,
   "metadata": {},
   "outputs": [],
   "source": [
    "# Model 5 (price - seattle + waterfront + grade )\n",
    "formula5 = \"price ~ grade + C(waterfront__YES) + C(seattle)\"\n",
    "\n",
    "model5 = smf.ols(formula5, df_99).fit()\n",
    "model5.summary()"
   ]
  },
  {
   "cell_type": "code",
   "execution_count": null,
   "metadata": {},
   "outputs": [],
   "source": [
    "# Linearity check \n",
    "x_cols = ['waterfront__YES', 'seattle', 'grade']\n",
    "preds = model5.predict(df_99[x_cols])\n",
    "\n",
    "fig, ax = plt.subplots()\n",
    "\n",
    "perfect_line = np.arange(df_99.price.min(), df_99.price.max())\n",
    "ax.plot(perfect_line, linestyle=\"--\", color=\"orange\", label=\"Perfect Fit\")\n",
    "ax.scatter(df_99.price, preds, alpha=0.5)\n",
    "ax.set_xlabel(\"Actual Price\")\n",
    "ax.set_ylabel(\"Predicted Price\")\n",
    "ax.legend();"
   ]
  },
  {
   "cell_type": "code",
   "execution_count": null,
   "metadata": {},
   "outputs": [],
   "source": [
    "# QQ normality check here\n",
    "import scipy.stats as stats\n",
    "\n",
    "residuals = model5.resid\n",
    "fig = sm.graphics.qqplot(residuals, dist=stats.norm, line='45', fit=True)\n",
    "fig.show()"
   ]
  },
  {
   "cell_type": "code",
   "execution_count": null,
   "metadata": {},
   "outputs": [],
   "source": [
    "# Homoskedasticity \n",
    "plt.figure()\n",
    "x_cols =  ['waterfront__YES', 'seattle', 'grade']\n",
    "\n",
    "plt.scatter(model5.predict(df_99[x_cols]), model5.resid)\n",
    "plt.plot(model5.predict(df_99[x_cols]), [0 for i in range(len(df_99))], c='black')\n",
    "\n",
    "plt.xlabel(\"Predicted Value\")\n",
    "plt.ylabel(\"Actual - Predicted Value\");\n",
    "\n"
   ]
  },
  {
   "cell_type": "markdown",
   "metadata": {},
   "source": [
    "###### Model 6\n",
    "- This model uses the log-transformed housing price and log-transformed sqft_living. The Adj. R2 score remains as low as 0.455. \n",
    "- The linearity, normality, and homoskedasticity assumptions are strongly held."
   ]
  },
  {
   "cell_type": "code",
   "execution_count": null,
   "metadata": {},
   "outputs": [],
   "source": [
    "# Log transformation \n",
    "df['sqft_living_log']=np.log(df.sqft_living)"
   ]
  },
  {
   "cell_type": "code",
   "execution_count": null,
   "metadata": {
    "scrolled": true
   },
   "outputs": [],
   "source": [
    "df.sqft_living_log.hist()"
   ]
  },
  {
   "cell_type": "code",
   "execution_count": null,
   "metadata": {},
   "outputs": [],
   "source": [
    "plt.scatter(x = df.sqft_living_log, \n",
    "            y = df.price_log)\n",
    "plt.xlabel(\"sqft_living_log\")\n",
    "plt.ylabel(\"Price_log\")\n",
    "plt.title(\"sqft_living_log & Price_log\")\n",
    "plt.tight_layout()"
   ]
  },
  {
   "cell_type": "code",
   "execution_count": null,
   "metadata": {
    "scrolled": true
   },
   "outputs": [],
   "source": [
    "# OLS (price_log - sqft_living_log)\n",
    "\n",
    "\n",
    "formula6 = \"price_log ~ sqft_living_log\" \n",
    "#+ C(waterfront__YES) \"\n",
    "model6 = smf.ols(formula6, df).fit()\n",
    "model6.summary()\n",
    "#plt.savefig('ols_price_sqft_living')\n"
   ]
  },
  {
   "cell_type": "code",
   "execution_count": null,
   "metadata": {},
   "outputs": [],
   "source": [
    "# Linearility check \n",
    "x_cols = ['sqft_living_log']\n",
    "preds = model6.predict(df[x_cols])\n",
    "\n",
    "fig, ax = plt.subplots()\n",
    "\n",
    "perfect_line = np.arange(df.price_log.min(), df.price_log.max())\n",
    "ax.plot( perfect_line, perfect_line, linestyle=\"--\", color=\"orange\", label=\"Perfect Fit\")\n",
    "ax.scatter(df.price_log, preds, alpha=0.5)\n",
    "ax.set_xlabel(\"Actual Price\")\n",
    "ax.set_ylabel(\"Predicted Price\")\n",
    "ax.legend();"
   ]
  },
  {
   "cell_type": "code",
   "execution_count": null,
   "metadata": {
    "scrolled": true
   },
   "outputs": [],
   "source": [
    "# QQ normality check here\n",
    "import scipy.stats as stats\n",
    "\n",
    "residuals = model6.resid\n",
    "fig = sm.graphics.qqplot(residuals, dist=stats.norm, line='45', fit=True)\n",
    "fig.show()"
   ]
  },
  {
   "cell_type": "code",
   "execution_count": null,
   "metadata": {},
   "outputs": [],
   "source": [
    "# Homoskedasticity \n",
    "plt.figure()\n",
    "x_cols = ['sqft_living_log', 'waterfront__YES']\n",
    "\n",
    "plt.scatter(model6.predict(df[x_cols]), model6.resid)\n",
    "plt.plot(model6.predict(df[x_cols]), [0 for i in range(len(df))], c='black')\n",
    "plt.xlabel(\"Predicted Value\")\n",
    "plt.ylabel(\"Actual - Predicted Value\");\n"
   ]
  },
  {
   "cell_type": "markdown",
   "metadata": {},
   "source": [
    "##### Model 7\n",
    "- The model adds other housing features to model 6. The R2 score is 0.602. \n",
    "- The coefficient shows that a 1% increase in sqft_living is associated with a (0.83% or 83% ?) increase in the housing price.\n",
    "\n",
    "\n",
    "This model uses the housing grade index instead of a dummy with an above-average grade.\n",
    "The R2 score increased to 0.663. However, since the grade index are highly correlated with sqft_living_log, we don't adopt this model."
   ]
  },
  {
   "cell_type": "code",
   "execution_count": null,
   "metadata": {
    "scrolled": true
   },
   "outputs": [],
   "source": [
    "# Model 7 OLS (price_log - grade) \n",
    "\n",
    "\n",
    "formula7 = \"price_log ~ grade\"\n",
    "model7 = smf.ols(formula7, df).fit()\n",
    "model7.summary()\n",
    "\n"
   ]
  },
  {
   "cell_type": "code",
   "execution_count": null,
   "metadata": {},
   "outputs": [],
   "source": [
    "# Linearity check \n",
    "x_cols = ['grade']\n",
    "\n",
    "preds = model7.predict(df[x_cols])\n",
    "\n",
    "fig, ax = plt.subplots()\n",
    "\n",
    "perfect_line = np.arange(df.price_log.min(), df.price_log.max())\n",
    "ax.plot(perfect_line, perfect_line, linestyle=\"--\", color=\"orange\", label=\"Perfect Fit\")\n",
    "ax.scatter(df.price_log, preds, alpha=0.5)\n",
    "ax.set_xlabel(\"Actual Price\")\n",
    "ax.set_ylabel(\"Predicted Price\")\n",
    "ax.legend();"
   ]
  },
  {
   "cell_type": "code",
   "execution_count": null,
   "metadata": {},
   "outputs": [],
   "source": [
    "# QQ normality check here\n",
    "import scipy.stats as stats\n",
    "\n",
    "residuals = model7.resid\n",
    "fig = sm.graphics.qqplot(residuals, dist=stats.norm, line='45', fit=True)\n",
    "fig.show()"
   ]
  },
  {
   "cell_type": "code",
   "execution_count": null,
   "metadata": {},
   "outputs": [],
   "source": [
    "# Homoskedasticity \n",
    "plt.figure()\n",
    "x_cols = ['grade']\n",
    "\n",
    "plt.scatter(model7.predict(df[x_cols]), model7.resid)\n",
    "plt.plot(model7.predict(df[x_cols]), [0 for i in range(len(df))], c='black')\n",
    "plt.xlabel(\"Predicted Value\")\n",
    "plt.ylabel(\"Actual - Predicted Value\");\n",
    "\n"
   ]
  },
  {
   "cell_type": "markdown",
   "metadata": {},
   "source": [
    "####  Model Selection and our final model\n",
    "\n",
    "We conducted linear regression analysis with seven model specifications. The adjusted R-squared scores in all seven models stayed low, at between 0.4 and 0.5. This tells us that these models, regardless of specification, explain only 40–50% of the entire variation in house prices. This means more than half of the housing price movement is explained by other variables or is captured by types of models other than a linear regression model. \n",
    "Additionally, the results report strong multicollinearity issues and violation of the assumptions made for linear regression models.\\\n",
    "\\\n",
    "Because most of the data were related to features of houses, such as the number of bedrooms and size of each house’s living space, each variable was strongly correlated with the others. Models 1–3 displayed strong correlations with each other. Such strong multicollinearity would weaken the statistical inferences from linear regression. Thus, we explored a single linear-regression model. Model 4 runs a single linear regression with a house’s grade in terms of construction and design.\\\n",
    "\\\n",
    "We also checked a regression model with log-transformed price variables. With the log transformation, the model 6 and 7 followed the perfect linearity, normality, and homoscedasticity assumptions. However, the R-squared values were low, and these models only captured half of the price movement.\\\n",
    "\\\n",
    "Given the strong collinearity in the dataset, we decided to choose **Model 4 (a single linear regression model against housing grade)** as our inferential model for the clients. \n"
   ]
  },
  {
   "cell_type": "code",
   "execution_count": null,
   "metadata": {
    "scrolled": false
   },
   "outputs": [],
   "source": [
    "# comparison model's Adj. R2. \n",
    "\n",
    "fig = plt.figure()\n",
    "\n",
    "adjr2=[\n",
    "model1.rsquared_adj, \n",
    "model2.rsquared_adj,\n",
    "model3.rsquared_adj,\n",
    "model4.rsquared_adj,\n",
    "model5.rsquared_adj,\n",
    "model6.rsquared_adj,\n",
    "model7.rsquared_adj,\n",
    "]\n",
    "\n",
    "model_names = ['model_1', 'model_2', 'model_3', 'model_4', \n",
    "                'model_5', 'model_6', 'model_7']\n",
    "\n",
    "plt.bar(x=model_names, height=adjr2, )\n",
    "plt.ylabel('Adj. R-squared')\n",
    "for i in range(len(adjr2)):\n",
    "    plt.annotate(str(adjr2[i].round(2)), xy=(model_names[i], adjr2[i]-0.05), ha='center', va='bottom', \n",
    "                 color ='white', fontsize=13)\n",
    "\n",
    "plt.savefig('Image/adj_r2')\n",
    "\n",
    "plt.tight_layout();"
   ]
  },
  {
   "cell_type": "markdown",
   "metadata": {},
   "source": [
    "**Model 4 (Our inferential model for Zillow)**\n",
    "- Mode 4 holds no multicollinearity issues. The coefficient of the models indicates that one higher grade is associated with an additional 171,100 USD in housing purchase price. The adjusted R-squared score is the same as those of the other models (0.463). \n",
    "- However, the adjusted R-squared score is the same as those of the other models (0.463). It means, this model explains 46% of the housing price variation. It means more than half of the price movement is explained by some other features. We also saw some deviation from the assumptions for linear regressions. In particular, the homoskedasticity and normality assumptions were clearly violated. It indicates that the housing price data does not follow a linear relationship, thus we need different models other than linear regression model. \n"
   ]
  },
  {
   "cell_type": "code",
   "execution_count": null,
   "metadata": {
    "scrolled": true
   },
   "outputs": [],
   "source": [
    "result4 = pd.DataFrame(model4.params)\n",
    "result4.iloc[1:][0]\n",
    "\n",
    "y = result4.index[1: ]\n",
    "width = result4.iloc[1:][0]\n",
    "plt.barh(y=y, width=width, align='center')\n",
    "plt.annotate(str(int(model4.params[1])), xy=(width -34000, y), color='white', fontsize=13)\n",
    "plt.ylim(-1, 1)\n",
    "plt.xlabel('USD')\n",
    "plt.title('Model4');"
   ]
  },
  {
   "cell_type": "markdown",
   "metadata": {},
   "source": [
    "\n",
    "\n"
   ]
  },
  {
   "cell_type": "markdown",
   "metadata": {},
   "source": [
    "## 4. 2 Predictive Model: Model to support client's price prediction for a new house"
   ]
  },
  {
   "cell_type": "markdown",
   "metadata": {},
   "source": [
    "##### Baseline Model"
   ]
  },
  {
   "cell_type": "code",
   "execution_count": null,
   "metadata": {},
   "outputs": [],
   "source": [
    "dfp = df.drop(labels=(['yr_built', 'yr_sold', 'grade_above_ave', 'sqft_living_log']), axis=1)\n"
   ]
  },
  {
   "cell_type": "code",
   "execution_count": null,
   "metadata": {},
   "outputs": [],
   "source": [
    "y = dfp.price\n",
    "X = dfp.drop(labels=['price_log', 'price'], axis=1)\n",
    "\n",
    "# Train-test split\n",
    "X_train, X_test, y_train, y_test = train_test_split(X, y,\n",
    "                                                    test_size=0.2,\n",
    "                                                    random_state=42)\n",
    "print(len(X_train), len(X_test), len(y_train), len(y_test))"
   ]
  },
  {
   "cell_type": "code",
   "execution_count": null,
   "metadata": {},
   "outputs": [],
   "source": [
    "# Baseline model \n",
    "\n",
    "dummy_mean = DummyRegressor(strategy = 'mean').fit(X_train, y_train)\n",
    "  \n",
    "dummy_median = DummyRegressor(strategy = 'median').fit(X_train, y_train)\n",
    "\n",
    "y_hat_train_mean = dummy_mean.predict(X_train)\n",
    "y_hat_test_mean = dummy_mean.predict(X_test)\n",
    "\n",
    "y_hat_train_median = dummy_median.predict(X_train)\n",
    "y_hat_test_median = dummy_median.predict(X_test)"
   ]
  },
  {
   "cell_type": "code",
   "execution_count": null,
   "metadata": {
    "scrolled": false
   },
   "outputs": [],
   "source": [
    "# R2 score - baseline model (mean) \n",
    "print(f\"R2 score for baseline model (mean) with train data: {dummy_mean.score(X_train, y_train)}\")\n",
    "print(f\"R2 score for baseline model (mean) with test data: {dummy_mean.score(X_test, y_test)}\")\n"
   ]
  },
  {
   "cell_type": "code",
   "execution_count": null,
   "metadata": {},
   "outputs": [],
   "source": [
    "# MSE - baseline model (mean) \n",
    "train_mse_mean = mean_squared_error(y_train, y_hat_train_mean)\n",
    "test_mse_mean = mean_squared_error(y_test, y_hat_test_mean)\n",
    "print('Train Mean Squarred Error (mean model):', train_mse_mean)\n",
    "print('Test Mean Squarred Error (mean model):', test_mse_mean)"
   ]
  },
  {
   "cell_type": "code",
   "execution_count": null,
   "metadata": {},
   "outputs": [],
   "source": [
    "# RMSE - baseline model (mean) \n",
    "train_rmse_mean = mean_squared_error(y_train, y_hat_train_mean, squared=False)\n",
    "test_rmse_mean = mean_squared_error(y_test, y_hat_test_mean, squared=False)\n",
    "print('Train Root Mean Squarred Error (mean model):', train_rmse_mean)\n",
    "print('Test Root Mean Squarred Error (mean model):', test_rmse_mean)"
   ]
  },
  {
   "cell_type": "code",
   "execution_count": null,
   "metadata": {
    "scrolled": true
   },
   "outputs": [],
   "source": [
    "# R2 score - baseline model (median)\n",
    "print(f\"R2 score for baseline model (median) with train data: {dummy_median.score(X_train, y_train)}\")\n",
    "print(f\"R2 score for baseline model (median) with test data: {dummy_median.score(X_test, y_test)}\")\n"
   ]
  },
  {
   "cell_type": "code",
   "execution_count": null,
   "metadata": {},
   "outputs": [],
   "source": [
    "# MSE - baseline model (median) \n",
    "train_mse_median = mean_squared_error(y_train, y_hat_train_median)\n",
    "test_mse_median = mean_squared_error(y_test, y_hat_test_median)\n",
    "print('Train Mean Squarred Error (median model):', train_mse_median)\n",
    "print('Test Mean Squarred Error (median model):', test_mse_median)"
   ]
  },
  {
   "cell_type": "code",
   "execution_count": null,
   "metadata": {},
   "outputs": [],
   "source": [
    "# RMSE - baseline model (median) \n",
    "train_mse_median = mean_squared_error(y_train, y_hat_train_median, squared=False)\n",
    "test_mse_median = mean_squared_error(y_test, y_hat_test_median, squared=False)\n",
    "print('Train Root Mean Squarred Error (median model):', train_mse_median)\n",
    "print('Test Root Mean Squarred Error (median model):', test_mse_median)"
   ]
  },
  {
   "cell_type": "markdown",
   "metadata": {},
   "source": [
    "##### Model with All Numeric Features"
   ]
  },
  {
   "cell_type": "code",
   "execution_count": null,
   "metadata": {},
   "outputs": [],
   "source": [
    "lr = LinearRegression()\n",
    "lr.fit(X_train, y_train)\n",
    "\n",
    "y_hat_train = lr.predict(X_train)\n",
    "y_hat_test = lr.predict(X_test)\n",
    "\n",
    "print(f\"R2 score with train data: {lr.score(X_train, y_train)}\")\n",
    "print(f\"R2 score with test data: {lr.score(X_test, y_test)}\")\n"
   ]
  },
  {
   "cell_type": "code",
   "execution_count": null,
   "metadata": {},
   "outputs": [],
   "source": [
    "train_mse_model1 = mean_squared_error(y_train, y_hat_train)\n",
    "test_mse_model1 = mean_squared_error(y_test, y_hat_test)\n",
    "print('Train Mean Squarred Error:', train_mse_model1)\n",
    "print('Test Mean Squarred Error:', test_mse_model1)"
   ]
  },
  {
   "cell_type": "code",
   "execution_count": null,
   "metadata": {
    "scrolled": true
   },
   "outputs": [],
   "source": [
    "train_rmse_model1 = mean_squared_error(y_train, y_hat_train, squared=False)\n",
    "test_rmse_model1 = mean_squared_error(y_test, y_hat_test, squared=False)\n",
    "print('Train Root Mean Squarred Error:', train_rmse_model1)\n",
    "print('Test Root Mean Squarred Error:', test_rmse_model1)"
   ]
  },
  {
   "cell_type": "markdown",
   "metadata": {},
   "source": [
    "##### Model with Selected Features"
   ]
  },
  {
   "cell_type": "markdown",
   "metadata": {},
   "source": [
    "Using **Feature Ranking with Recursive Feature Elimination**, we select the most important features."
   ]
  },
  {
   "cell_type": "code",
   "execution_count": null,
   "metadata": {
    "scrolled": true
   },
   "outputs": [],
   "source": [
    "# Scale the data to normalize the coefficients\n",
    "X_train_for_RFE = StandardScaler().fit_transform(X_train)\n",
    "\n",
    "model_for_RFE = LinearRegression()\n",
    "\n",
    "# Instantiate and fit the selector\n",
    "selector = RFE(model_for_RFE)\n",
    "selector.fit(X_train_for_RFE, y_train)\n",
    "\n",
    "# Print the results\n",
    "print(\"Was the column selected?\")\n",
    "for index, col in enumerate(X_train.columns):\n",
    "    print(f\"{col}: {selector.support_[index]}\")"
   ]
  },
  {
   "cell_type": "code",
   "execution_count": null,
   "metadata": {},
   "outputs": [],
   "source": [
    "# Use the selected columns \n",
    "selectedcolumns = X_train.columns[selector.support_]\n",
    "\n",
    "model_for_RFE.fit(X_train[selectedcolumns],y_train)\n",
    "\n",
    "y_hat_train_RFE = model_for_RFE.predict(X_train[selectedcolumns])\n",
    "y_hat_test_RFE = model_for_RFE.predict(X_test[selectedcolumns])\n",
    "\n",
    "\n",
    "print(f\"R2 score with train data: {model_for_RFE.score(X_train[selectedcolumns], y_train)}\")\n",
    "print(f\"R2 score with test data: {model_for_RFE.score(X_test[selectedcolumns], y_test)}\")\n"
   ]
  },
  {
   "cell_type": "code",
   "execution_count": null,
   "metadata": {},
   "outputs": [],
   "source": [
    "train_mse_model2 = mean_squared_error(y_train, y_hat_train_RFE)\n",
    "test_mse_model2 = mean_squared_error(y_test, y_hat_test_RFE)\n",
    "print('Train Mean Squarred Error:', train_mse_model2)\n",
    "print('Test Mean Squarred Error:', test_mse_model2)\n"
   ]
  },
  {
   "cell_type": "code",
   "execution_count": null,
   "metadata": {},
   "outputs": [],
   "source": [
    "train_rmse_model2 = mean_squared_error(y_train, y_hat_train_RFE,  squared=False)\n",
    "test_rmse_model2 = mean_squared_error(y_test, y_hat_test_RFE,  squared=False)\n",
    "print('Train Root Mean Squarred Error:', train_rmse_model2)\n",
    "print('Test Root Mean Squarred Error:', test_rmse_model2)"
   ]
  },
  {
   "cell_type": "code",
   "execution_count": null,
   "metadata": {
    "scrolled": true
   },
   "outputs": [],
   "source": [
    "\n",
    "fig = plt.figure()\n",
    "\n",
    "\n",
    "r1 = lr.score(X_test, y_test)\n",
    "r2 = model_for_RFE.score(X_test[selectedcolumns], y_test) \n",
    "\n",
    "xr2= [r1, r2]\n",
    "model_names=['Model 1', 'Model 2']\n",
    "\n",
    "plt.bar(x=model_names, height=xr2)\n",
    "plt.title('Model Comaprison of R Squared')\n",
    "plt.xlabel('Model')\n",
    "plt.ylabel('R Squared Value')\n",
    "\n",
    "\n",
    "for i in range(len(xr2)):\n",
    "    plt.annotate(str(xr2[i].round(2)), xy=(model_names[i], xr2[i]-0.1), ha='center', va='bottom', color ='white',\n",
    "                fontsize=13)\n",
    "\n",
    "plt.savefig('Image/r2_prediction')\n",
    " \n",
    "plt.tight_layout();"
   ]
  },
  {
   "cell_type": "code",
   "execution_count": null,
   "metadata": {
    "scrolled": true
   },
   "outputs": [],
   "source": [
    "fig = plt.figure()\n",
    "\n",
    "rsme1 = lr.score(X_test, y_test)\n",
    "rsme2 = model_for_RFE.score(X_test[selectedcolumns], y_test)\n",
    "\n",
    "\n",
    "x1rsme=[ test_rmse_model1, test_rmse_model2]\n",
    "model_names=['Model 1', 'Model 2']\n",
    "\n",
    "plt.bar(x=model_names, height=x1rsme)\n",
    "plt.title('Model Comaprison of RSME')\n",
    "plt.xlabel('Model')\n",
    "plt.ylabel('Root Square Mean Error')\n",
    "#for index,data in enumerate():\n",
    "#    plt.text(x=index , y =data+1 , s=f\"{data}\" , fontdict=dict(fontsize=20))\n",
    "\n",
    "\n",
    "for i in range(len(x1rsme)):\n",
    "    plt.annotate(str(int(x1rsme[i].round(0))), xy=(model_names[i], x1rsme[i]-30000), ha='center', va='bottom', color ='white', fontsize=13)\n",
    "\n",
    "plt.savefig('Image/rsme_prediction')    \n",
    "    \n",
    "plt.tight_layout();"
   ]
  },
  {
   "cell_type": "markdown",
   "metadata": {},
   "source": [
    "- RMSE from Model 1 = 213790. It means that for an average housing, this algorithm will be off by about 214,000(USD). \n",
    "- RMSE from Model 2 = 216216. It means that for an average housing, this algorithm will be off by about 216,000(USD). \n",
    "- Given that average housing price for this dataset is about 540,000(USD), the error captures almost half of the price. Depending only on this algorithm is not recommended. "
   ]
  },
  {
   "cell_type": "markdown",
   "metadata": {},
   "source": [
    "## 5. Conclusion and next steps"
   ]
  },
  {
   "cell_type": "code",
   "execution_count": null,
   "metadata": {},
   "outputs": [],
   "source": []
  }
 ],
 "metadata": {
  "kernelspec": {
   "display_name": "Python (learn-env)",
   "language": "python",
   "name": "learn-env"
  },
  "language_info": {
   "codemirror_mode": {
    "name": "ipython",
    "version": 3
   },
   "file_extension": ".py",
   "mimetype": "text/x-python",
   "name": "python",
   "nbconvert_exporter": "python",
   "pygments_lexer": "ipython3",
   "version": "3.8.5"
  }
 },
 "nbformat": 4,
 "nbformat_minor": 4
}
